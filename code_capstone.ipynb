{
 "cells": [
  {
   "cell_type": "markdown",
   "metadata": {},
   "source": [
    "Workflow:\n",
    "\n",
    "1) Check if data has null\n",
    "\n",
    "2) Feature engineering with insights\n",
    "\n",
    "3) Oversample\n",
    "\n",
    "4) Build first model\n",
    "\n",
    "5) Assess\n",
    "\n",
    "6) Feature engineer and selection"
   ]
  },
  {
   "cell_type": "code",
   "execution_count": 1,
   "metadata": {},
   "outputs": [],
   "source": [
    "import pandas as pd\n",
    "import numpy as np\n",
    "\n",
    "import matplotlib.pyplot as plt\n",
    "import seaborn as sns"
   ]
  },
  {
   "cell_type": "code",
   "execution_count": 2,
   "metadata": {
    "scrolled": true
   },
   "outputs": [],
   "source": [
    "train = pd.read_csv('train.csv')"
   ]
  },
  {
   "cell_type": "code",
   "execution_count": 3,
   "metadata": {},
   "outputs": [
    {
     "data": {
      "text/html": [
       "<div>\n",
       "<style scoped>\n",
       "    .dataframe tbody tr th:only-of-type {\n",
       "        vertical-align: middle;\n",
       "    }\n",
       "\n",
       "    .dataframe tbody tr th {\n",
       "        vertical-align: top;\n",
       "    }\n",
       "\n",
       "    .dataframe thead th {\n",
       "        text-align: right;\n",
       "    }\n",
       "</style>\n",
       "<table border=\"1\" class=\"dataframe\">\n",
       "  <thead>\n",
       "    <tr style=\"text-align: right;\">\n",
       "      <th></th>\n",
       "      <th>id</th>\n",
       "      <th>industry</th>\n",
       "      <th>state</th>\n",
       "      <th>request_date</th>\n",
       "      <th>term</th>\n",
       "      <th>employee_count</th>\n",
       "      <th>business_new</th>\n",
       "      <th>business_type</th>\n",
       "      <th>location</th>\n",
       "      <th>other_loans</th>\n",
       "      <th>loan_amount</th>\n",
       "      <th>insured_amount</th>\n",
       "      <th>default_status</th>\n",
       "    </tr>\n",
       "  </thead>\n",
       "  <tbody>\n",
       "    <tr>\n",
       "      <th>0</th>\n",
       "      <td>4050975007</td>\n",
       "      <td>Others</td>\n",
       "      <td>VA</td>\n",
       "      <td>27-Apr-10</td>\n",
       "      <td>34</td>\n",
       "      <td>4</td>\n",
       "      <td>New</td>\n",
       "      <td>0</td>\n",
       "      <td>Rural</td>\n",
       "      <td>N</td>\n",
       "      <td>$35,000.00</td>\n",
       "      <td>$35,000.00</td>\n",
       "      <td>1</td>\n",
       "    </tr>\n",
       "    <tr>\n",
       "      <th>1</th>\n",
       "      <td>3735095001</td>\n",
       "      <td>Manufacturing</td>\n",
       "      <td>CA</td>\n",
       "      <td>05-Nov-09</td>\n",
       "      <td>107</td>\n",
       "      <td>1</td>\n",
       "      <td>New</td>\n",
       "      <td>0</td>\n",
       "      <td>Rural</td>\n",
       "      <td>N</td>\n",
       "      <td>$15,000.00</td>\n",
       "      <td>$13,500.00</td>\n",
       "      <td>1</td>\n",
       "    </tr>\n",
       "    <tr>\n",
       "      <th>2</th>\n",
       "      <td>3936555004</td>\n",
       "      <td>Trading</td>\n",
       "      <td>CA</td>\n",
       "      <td>26-Feb-10</td>\n",
       "      <td>84</td>\n",
       "      <td>1</td>\n",
       "      <td>New</td>\n",
       "      <td>0</td>\n",
       "      <td>Rural</td>\n",
       "      <td>Y</td>\n",
       "      <td>$265,000.00</td>\n",
       "      <td>$100,000.00</td>\n",
       "      <td>0</td>\n",
       "    </tr>\n",
       "    <tr>\n",
       "      <th>3</th>\n",
       "      <td>4130405000</td>\n",
       "      <td>Engineering</td>\n",
       "      <td>MI</td>\n",
       "      <td>10-Jun-10</td>\n",
       "      <td>240</td>\n",
       "      <td>21</td>\n",
       "      <td>New</td>\n",
       "      <td>0</td>\n",
       "      <td>Rural</td>\n",
       "      <td>N</td>\n",
       "      <td>$255,000.00</td>\n",
       "      <td>$255,000.00</td>\n",
       "      <td>0</td>\n",
       "    </tr>\n",
       "    <tr>\n",
       "      <th>4</th>\n",
       "      <td>4263615008</td>\n",
       "      <td>Education</td>\n",
       "      <td>NH</td>\n",
       "      <td>23-Sep-10</td>\n",
       "      <td>36</td>\n",
       "      <td>1</td>\n",
       "      <td>Existing</td>\n",
       "      <td>0</td>\n",
       "      <td>Rural</td>\n",
       "      <td>N</td>\n",
       "      <td>$13,300.00</td>\n",
       "      <td>$6,650.00</td>\n",
       "      <td>0</td>\n",
       "    </tr>\n",
       "  </tbody>\n",
       "</table>\n",
       "</div>"
      ],
      "text/plain": [
       "           id       industry state request_date  term  employee_count  \\\n",
       "0  4050975007         Others    VA    27-Apr-10    34               4   \n",
       "1  3735095001  Manufacturing    CA    05-Nov-09   107               1   \n",
       "2  3936555004        Trading    CA    26-Feb-10    84               1   \n",
       "3  4130405000    Engineering    MI    10-Jun-10   240              21   \n",
       "4  4263615008      Education    NH    23-Sep-10    36               1   \n",
       "\n",
       "  business_new  business_type location other_loans  loan_amount  \\\n",
       "0          New              0    Rural           N   $35,000.00   \n",
       "1          New              0    Rural           N   $15,000.00   \n",
       "2          New              0    Rural           Y  $265,000.00   \n",
       "3          New              0    Rural           N  $255,000.00   \n",
       "4     Existing              0    Rural           N   $13,300.00   \n",
       "\n",
       "  insured_amount  default_status  \n",
       "0     $35,000.00               1  \n",
       "1     $13,500.00               1  \n",
       "2    $100,000.00               0  \n",
       "3    $255,000.00               0  \n",
       "4      $6,650.00               0  "
      ]
     },
     "execution_count": 3,
     "metadata": {},
     "output_type": "execute_result"
    }
   ],
   "source": [
    "train.head()"
   ]
  },
  {
   "cell_type": "code",
   "execution_count": 4,
   "metadata": {},
   "outputs": [
    {
     "name": "stdout",
     "output_type": "stream",
     "text": [
      "<class 'pandas.core.frame.DataFrame'>\n",
      "RangeIndex: 2402 entries, 0 to 2401\n",
      "Data columns (total 13 columns):\n",
      "id                2402 non-null int64\n",
      "industry          2401 non-null object\n",
      "state             2402 non-null object\n",
      "request_date      2402 non-null object\n",
      "term              2402 non-null int64\n",
      "employee_count    2402 non-null int64\n",
      "business_new      2402 non-null object\n",
      "business_type     2402 non-null int64\n",
      "location          2402 non-null object\n",
      "other_loans       2402 non-null object\n",
      "loan_amount       2402 non-null object\n",
      "insured_amount    2402 non-null object\n",
      "default_status    2402 non-null int64\n",
      "dtypes: int64(5), object(8)\n",
      "memory usage: 244.0+ KB\n"
     ]
    }
   ],
   "source": [
    "train.info()\n",
    "#dataset only has one null cell"
   ]
  },
  {
   "cell_type": "code",
   "execution_count": 5,
   "metadata": {},
   "outputs": [
    {
     "data": {
      "text/plain": [
       "0    1629\n",
       "1     773\n",
       "Name: default_status, dtype: int64"
      ]
     },
     "execution_count": 5,
     "metadata": {},
     "output_type": "execute_result"
    }
   ],
   "source": [
    "#check count of default_status incidence, might need to over or under sample\n",
    "train.default_status.value_counts()"
   ]
  },
  {
   "cell_type": "code",
   "execution_count": 6,
   "metadata": {},
   "outputs": [],
   "source": [
    "train['request_date'] = pd.to_datetime(train['request_date'])"
   ]
  },
  {
   "cell_type": "markdown",
   "metadata": {},
   "source": [
    "### EDA"
   ]
  },
  {
   "cell_type": "code",
   "execution_count": 7,
   "metadata": {},
   "outputs": [
    {
     "data": {
      "text/plain": [
       "Trading           508\n",
       "Construction      275\n",
       "Consulting        267\n",
       "Manufacturing     245\n",
       "Hotel             245\n",
       "Healthcare        219\n",
       "Others            168\n",
       "Administration    125\n",
       "Transportation    106\n",
       "Agriculture        58\n",
       "Real Estate        44\n",
       "Engineering        40\n",
       "Finance            32\n",
       "Entertainment      31\n",
       "Education          29\n",
       "Energy              9\n",
       "Name: industry, dtype: int64"
      ]
     },
     "execution_count": 7,
     "metadata": {},
     "output_type": "execute_result"
    }
   ],
   "source": [
    "train.industry.value_counts()"
   ]
  },
  {
   "cell_type": "code",
   "execution_count": 8,
   "metadata": {
    "scrolled": true
   },
   "outputs": [
    {
     "data": {
      "text/plain": [
       "CA    293\n",
       "TX    191\n",
       "NY    133\n",
       "OH    102\n",
       "FL     95\n",
       "MN     91\n",
       "WI     80\n",
       "IL     79\n",
       "UT     77\n",
       "MA     74\n",
       "MO     69\n",
       "WA     62\n",
       "CO     60\n",
       "PA     59\n",
       "AZ     55\n",
       "IN     53\n",
       "MI     51\n",
       "NC     47\n",
       "GA     43\n",
       "IA     42\n",
       "VA     40\n",
       "OR     37\n",
       "MS     36\n",
       "KY     34\n",
       "KS     33\n",
       "NJ     29\n",
       "OK     29\n",
       "NE     29\n",
       "TN     28\n",
       "NH     28\n",
       "LA     28\n",
       "MT     27\n",
       "CT     27\n",
       "MD     26\n",
       "ID     26\n",
       "ME     20\n",
       "AL     20\n",
       "NV     18\n",
       "VT     17\n",
       "NM     16\n",
       "ND     15\n",
       "HI     14\n",
       "SD     14\n",
       "RI     14\n",
       "SC     12\n",
       "AR     11\n",
       "WV      7\n",
       "WY      5\n",
       "DE      4\n",
       "AK      2\n",
       "Name: state, dtype: int64"
      ]
     },
     "execution_count": 8,
     "metadata": {},
     "output_type": "execute_result"
    }
   ],
   "source": [
    "train.state.value_counts()"
   ]
  },
  {
   "cell_type": "code",
   "execution_count": 9,
   "metadata": {},
   "outputs": [
    {
     "data": {
      "text/plain": [
       "New         1687\n",
       "Existing     715\n",
       "Name: business_new, dtype: int64"
      ]
     },
     "execution_count": 9,
     "metadata": {},
     "output_type": "execute_result"
    }
   ],
   "source": [
    "train.business_new.value_counts()"
   ]
  },
  {
   "cell_type": "code",
   "execution_count": 10,
   "metadata": {},
   "outputs": [
    {
     "data": {
      "text/plain": [
       "Rural    2402\n",
       "Name: location, dtype: int64"
      ]
     },
     "execution_count": 10,
     "metadata": {},
     "output_type": "execute_result"
    }
   ],
   "source": [
    "train.location.value_counts()"
   ]
  },
  {
   "cell_type": "code",
   "execution_count": 11,
   "metadata": {},
   "outputs": [
    {
     "data": {
      "text/plain": [
       "Index(['id', 'industry', 'state', 'request_date', 'term', 'employee_count',\n",
       "       'business_new', 'business_type', 'location', 'other_loans',\n",
       "       'loan_amount', 'insured_amount', 'default_status'],\n",
       "      dtype='object')"
      ]
     },
     "execution_count": 11,
     "metadata": {},
     "output_type": "execute_result"
    }
   ],
   "source": [
    "train.columns"
   ]
  },
  {
   "cell_type": "code",
   "execution_count": 12,
   "metadata": {},
   "outputs": [
    {
     "data": {
      "text/plain": [
       "<matplotlib.axes._subplots.AxesSubplot at 0x1a1f728860>"
      ]
     },
     "execution_count": 12,
     "metadata": {},
     "output_type": "execute_result"
    },
    {
     "data": {
      "image/png": "[encoded data removed]",
      "text/plain": [
       "<Figure size 432x288 with 1 Axes>"
      ]
     },
     "metadata": {
      "needs_background": "light"
     },
     "output_type": "display_data"
    }
   ],
   "source": [
    "train.plot(kind='scatter', x='employee_count',y='default_status')"
   ]
  },
  {
   "cell_type": "code",
   "execution_count": 13,
   "metadata": {},
   "outputs": [
    {
     "data": {
      "text/plain": [
       "<matplotlib.axes._subplots.AxesSubplot at 0x1a1ea5f710>"
      ]
     },
     "execution_count": 13,
     "metadata": {},
     "output_type": "execute_result"
    },
    {
     "data": {
      "image/png": "[encoded data removed]",
      "text/plain": [
       "<Figure size 432x288 with 1 Axes>"
      ]
     },
     "metadata": {
      "needs_background": "light"
     },
     "output_type": "display_data"
    }
   ],
   "source": [
    "train.plot(kind='scatter', x='term',y='default_status')"
   ]
  },
  {
   "cell_type": "markdown",
   "metadata": {},
   "source": [
    "### Feature Engineering"
   ]
  },
  {
   "cell_type": "markdown",
   "metadata": {},
   "source": [
    "id - remove for model\n",
    "industry - one hot encoding?\n",
    "state - \n",
    "request_date - \n",
    "insured / loan amount are highly correlated - might want to drop one of them"
   ]
  },
  {
   "cell_type": "code",
   "execution_count": 14,
   "metadata": {},
   "outputs": [],
   "source": [
    "### data-cleaning & exploratory feature engineering\n",
    "\n",
    "def data_clean(df):\n",
    "    df['other_loans'] = df['other_loans'].replace('Y', 1)\n",
    "    df['other_loans'] = df['other_loans'].replace('N', 0)\n",
    "    \n",
    "    df['business_new'] = df['business_new'].replace('New', 1)\n",
    "    df['business_new'] = df['business_new'].replace('Existing', 0)\n",
    "    \n",
    "    df['loan_amount'] = df['loan_amount'].replace('[\\$,]', '', regex=True).astype(float)\n",
    "    df['insured_amount'] = df['insured_amount'].replace('[\\$,]', '', regex=True).astype(float)\n",
    "    df['uninsured_amount'] = df['loan_amount'] - df['insured_amount']\n",
    "\n",
    "    #drop columns for model\n",
    "    #location is removed because it is all rural in both train & test set\n",
    "    df.drop(columns=['request_date','state','location','insured_amount'], inplace=True)"
   ]
  },
  {
   "cell_type": "code",
   "execution_count": 15,
   "metadata": {},
   "outputs": [],
   "source": [
    "data_clean(train)"
   ]
  },
  {
   "cell_type": "code",
   "execution_count": 16,
   "metadata": {},
   "outputs": [],
   "source": [
    "train = pd.concat([train, pd.get_dummies(train['industry'],drop_first=True,prefix=\"industry\")],axis=1)\n",
    "train.drop(columns=['industry'], inplace=True)"
   ]
  },
  {
   "cell_type": "code",
   "execution_count": 17,
   "metadata": {},
   "outputs": [],
   "source": [
    "train.drop(columns=['industry_Entertainment', 'industry_Finance'], inplace=True)"
   ]
  },
  {
   "cell_type": "code",
   "execution_count": 18,
   "metadata": {
    "scrolled": true
   },
   "outputs": [
    {
     "data": {
      "text/html": [
       "<div>\n",
       "<style scoped>\n",
       "    .dataframe tbody tr th:only-of-type {\n",
       "        vertical-align: middle;\n",
       "    }\n",
       "\n",
       "    .dataframe tbody tr th {\n",
       "        vertical-align: top;\n",
       "    }\n",
       "\n",
       "    .dataframe thead th {\n",
       "        text-align: right;\n",
       "    }\n",
       "</style>\n",
       "<table border=\"1\" class=\"dataframe\">\n",
       "  <thead>\n",
       "    <tr style=\"text-align: right;\">\n",
       "      <th></th>\n",
       "      <th>id</th>\n",
       "      <th>term</th>\n",
       "      <th>employee_count</th>\n",
       "      <th>business_new</th>\n",
       "      <th>business_type</th>\n",
       "      <th>other_loans</th>\n",
       "      <th>loan_amount</th>\n",
       "      <th>default_status</th>\n",
       "      <th>uninsured_amount</th>\n",
       "      <th>industry_Agriculture</th>\n",
       "      <th>...</th>\n",
       "      <th>industry_Education</th>\n",
       "      <th>industry_Energy</th>\n",
       "      <th>industry_Engineering</th>\n",
       "      <th>industry_Healthcare</th>\n",
       "      <th>industry_Hotel</th>\n",
       "      <th>industry_Manufacturing</th>\n",
       "      <th>industry_Others</th>\n",
       "      <th>industry_Real Estate</th>\n",
       "      <th>industry_Trading</th>\n",
       "      <th>industry_Transportation</th>\n",
       "    </tr>\n",
       "  </thead>\n",
       "  <tbody>\n",
       "    <tr>\n",
       "      <th>0</th>\n",
       "      <td>4050975007</td>\n",
       "      <td>34</td>\n",
       "      <td>4</td>\n",
       "      <td>1</td>\n",
       "      <td>0</td>\n",
       "      <td>0</td>\n",
       "      <td>35000.0</td>\n",
       "      <td>1</td>\n",
       "      <td>0.0</td>\n",
       "      <td>0</td>\n",
       "      <td>...</td>\n",
       "      <td>0</td>\n",
       "      <td>0</td>\n",
       "      <td>0</td>\n",
       "      <td>0</td>\n",
       "      <td>0</td>\n",
       "      <td>0</td>\n",
       "      <td>1</td>\n",
       "      <td>0</td>\n",
       "      <td>0</td>\n",
       "      <td>0</td>\n",
       "    </tr>\n",
       "    <tr>\n",
       "      <th>1</th>\n",
       "      <td>3735095001</td>\n",
       "      <td>107</td>\n",
       "      <td>1</td>\n",
       "      <td>1</td>\n",
       "      <td>0</td>\n",
       "      <td>0</td>\n",
       "      <td>15000.0</td>\n",
       "      <td>1</td>\n",
       "      <td>1500.0</td>\n",
       "      <td>0</td>\n",
       "      <td>...</td>\n",
       "      <td>0</td>\n",
       "      <td>0</td>\n",
       "      <td>0</td>\n",
       "      <td>0</td>\n",
       "      <td>0</td>\n",
       "      <td>1</td>\n",
       "      <td>0</td>\n",
       "      <td>0</td>\n",
       "      <td>0</td>\n",
       "      <td>0</td>\n",
       "    </tr>\n",
       "    <tr>\n",
       "      <th>2</th>\n",
       "      <td>3936555004</td>\n",
       "      <td>84</td>\n",
       "      <td>1</td>\n",
       "      <td>1</td>\n",
       "      <td>0</td>\n",
       "      <td>1</td>\n",
       "      <td>265000.0</td>\n",
       "      <td>0</td>\n",
       "      <td>165000.0</td>\n",
       "      <td>0</td>\n",
       "      <td>...</td>\n",
       "      <td>0</td>\n",
       "      <td>0</td>\n",
       "      <td>0</td>\n",
       "      <td>0</td>\n",
       "      <td>0</td>\n",
       "      <td>0</td>\n",
       "      <td>0</td>\n",
       "      <td>0</td>\n",
       "      <td>1</td>\n",
       "      <td>0</td>\n",
       "    </tr>\n",
       "    <tr>\n",
       "      <th>3</th>\n",
       "      <td>4130405000</td>\n",
       "      <td>240</td>\n",
       "      <td>21</td>\n",
       "      <td>1</td>\n",
       "      <td>0</td>\n",
       "      <td>0</td>\n",
       "      <td>255000.0</td>\n",
       "      <td>0</td>\n",
       "      <td>0.0</td>\n",
       "      <td>0</td>\n",
       "      <td>...</td>\n",
       "      <td>0</td>\n",
       "      <td>0</td>\n",
       "      <td>1</td>\n",
       "      <td>0</td>\n",
       "      <td>0</td>\n",
       "      <td>0</td>\n",
       "      <td>0</td>\n",
       "      <td>0</td>\n",
       "      <td>0</td>\n",
       "      <td>0</td>\n",
       "    </tr>\n",
       "    <tr>\n",
       "      <th>4</th>\n",
       "      <td>4263615008</td>\n",
       "      <td>36</td>\n",
       "      <td>1</td>\n",
       "      <td>0</td>\n",
       "      <td>0</td>\n",
       "      <td>0</td>\n",
       "      <td>13300.0</td>\n",
       "      <td>0</td>\n",
       "      <td>6650.0</td>\n",
       "      <td>0</td>\n",
       "      <td>...</td>\n",
       "      <td>1</td>\n",
       "      <td>0</td>\n",
       "      <td>0</td>\n",
       "      <td>0</td>\n",
       "      <td>0</td>\n",
       "      <td>0</td>\n",
       "      <td>0</td>\n",
       "      <td>0</td>\n",
       "      <td>0</td>\n",
       "      <td>0</td>\n",
       "    </tr>\n",
       "  </tbody>\n",
       "</table>\n",
       "<p>5 rows × 22 columns</p>\n",
       "</div>"
      ],
      "text/plain": [
       "           id  term  employee_count  business_new  business_type  other_loans  \\\n",
       "0  4050975007    34               4             1              0            0   \n",
       "1  3735095001   107               1             1              0            0   \n",
       "2  3936555004    84               1             1              0            1   \n",
       "3  4130405000   240              21             1              0            0   \n",
       "4  4263615008    36               1             0              0            0   \n",
       "\n",
       "   loan_amount  default_status  uninsured_amount  industry_Agriculture  ...  \\\n",
       "0      35000.0               1               0.0                     0  ...   \n",
       "1      15000.0               1            1500.0                     0  ...   \n",
       "2     265000.0               0          165000.0                     0  ...   \n",
       "3     255000.0               0               0.0                     0  ...   \n",
       "4      13300.0               0            6650.0                     0  ...   \n",
       "\n",
       "   industry_Education  industry_Energy  industry_Engineering  \\\n",
       "0                   0                0                     0   \n",
       "1                   0                0                     0   \n",
       "2                   0                0                     0   \n",
       "3                   0                0                     1   \n",
       "4                   1                0                     0   \n",
       "\n",
       "   industry_Healthcare  industry_Hotel  industry_Manufacturing  \\\n",
       "0                    0               0                       0   \n",
       "1                    0               0                       1   \n",
       "2                    0               0                       0   \n",
       "3                    0               0                       0   \n",
       "4                    0               0                       0   \n",
       "\n",
       "   industry_Others  industry_Real Estate  industry_Trading  \\\n",
       "0                1                     0                 0   \n",
       "1                0                     0                 0   \n",
       "2                0                     0                 1   \n",
       "3                0                     0                 0   \n",
       "4                0                     0                 0   \n",
       "\n",
       "   industry_Transportation  \n",
       "0                        0  \n",
       "1                        0  \n",
       "2                        0  \n",
       "3                        0  \n",
       "4                        0  \n",
       "\n",
       "[5 rows x 22 columns]"
      ]
     },
     "execution_count": 18,
     "metadata": {},
     "output_type": "execute_result"
    }
   ],
   "source": [
    "train.head()"
   ]
  },
  {
   "cell_type": "markdown",
   "metadata": {},
   "source": [
    "### Model"
   ]
  },
  {
   "cell_type": "code",
   "execution_count": 19,
   "metadata": {},
   "outputs": [
    {
     "name": "stderr",
     "output_type": "stream",
     "text": [
      "Using TensorFlow backend.\n"
     ]
    }
   ],
   "source": [
    "from imblearn.over_sampling import ADASYN\n",
    "\n",
    "from sklearn.model_selection import train_test_split, KFold, GridSearchCV, RandomizedSearchCV\n",
    "from sklearn.preprocessing import StandardScaler\n",
    "\n",
    "from sklearn.linear_model import LogisticRegression\n",
    "from sklearn.ensemble import RandomForestClassifier\n",
    "\n",
    "from sklearn.metrics import precision_score, recall_score, precision_recall_curve,f1_score, fbeta_score, confusion_matrix, make_scorer, accuracy_score\n",
    "from sklearn.metrics import classification_report, confusion_matrix, roc_auc_score, roc_curve, auc, log_loss"
   ]
  },
  {
   "cell_type": "code",
   "execution_count": 20,
   "metadata": {},
   "outputs": [],
   "source": [
    "X1, y1 = train.drop(columns=['default_status','id']), train['default_status']\n",
    "\n",
    "from imblearn.over_sampling import ADASYN\n",
    "X, y = ADASYN(random_state=42).fit_sample(X1,y1)\n",
    "\n",
    "X_train, X_val, y_train, y_val = train_test_split(X, y, test_size=.25, random_state=3)"
   ]
  },
  {
   "cell_type": "code",
   "execution_count": 21,
   "metadata": {},
   "outputs": [],
   "source": [
    "scaler = StandardScaler()\n",
    "scaler.fit(X_train)\n",
    "X_train = scaler.transform(X_train)\n",
    "X_val = scaler.transform(X_val)"
   ]
  },
  {
   "cell_type": "code",
   "execution_count": 22,
   "metadata": {},
   "outputs": [
    {
     "data": {
      "image/png": "[encoded data removed]",
      "text/plain": [
       "<Figure size 1440x720 with 2 Axes>"
      ]
     },
     "metadata": {
      "needs_background": "light"
     },
     "output_type": "display_data"
    }
   ],
   "source": [
    "def correlation_heatmap(train):\n",
    "    correlations = train.corr()\n",
    "\n",
    "    fig, ax = plt.subplots(figsize=(20,10))\n",
    "    sns.heatmap(correlations, vmax=1.0, center=0, fmt='.2f',\n",
    "                square=True, linewidths=.5, annot=True, cbar_kws={\"shrink\": .70}, cmap='Blues')\n",
    "    plt.show();\n",
    "    \n",
    "correlation_heatmap(train)\n",
    "\n",
    "#loan amount and insured amount were closely correlated in the first round"
   ]
  },
  {
   "cell_type": "markdown",
   "metadata": {},
   "source": [
    "### Random Forest"
   ]
  },
  {
   "cell_type": "code",
   "execution_count": 23,
   "metadata": {},
   "outputs": [
    {
     "name": "stdout",
     "output_type": "stream",
     "text": [
      "CPU times: user 4 µs, sys: 1e+03 ns, total: 5 µs\n",
      "Wall time: 11 µs\n",
      "The score for Random Forest is\n",
      "Training:  95.41%\n",
      "Validate:  90.74%\n",
      "Log-loss: 0.2511\n"
     ]
    }
   ],
   "source": [
    "%time\n",
    "\n",
    "forest = RandomForestClassifier(n_estimators=100, max_depth=7, max_features=12)\n",
    "forest.fit(X_train, y_train)\n",
    "forest.score(X_train, y_train)\n",
    "\n",
    "print(\"The score for Random Forest is\")\n",
    "print(\"Training: {:6.2f}%\".format(100*forest.score(X_train, y_train)))\n",
    "print(\"Validate: {:6.2f}%\".format(100*forest.score(X_val, y_val)))\n",
    "print(\"Log-loss: {:6.4f}\".format(log_loss(y_val, forest.predict_proba(X_val))))"
   ]
  },
  {
   "cell_type": "code",
   "execution_count": 24,
   "metadata": {},
   "outputs": [
    {
     "name": "stdout",
     "output_type": "stream",
     "text": [
      "Forest Results:\n",
      "[[338  46]\n",
      " [ 30 407]]\n",
      "              precision    recall  f1-score   support\n",
      "\n",
      "           0       0.92      0.88      0.90       384\n",
      "           1       0.90      0.93      0.91       437\n",
      "\n",
      "    accuracy                           0.91       821\n",
      "   macro avg       0.91      0.91      0.91       821\n",
      "weighted avg       0.91      0.91      0.91       821\n",
      "\n"
     ]
    }
   ],
   "source": [
    "forest_pred = forest.predict(X_val)\n",
    "print('Forest Results:')\n",
    "print(confusion_matrix(y_val, forest_pred))\n",
    "print(classification_report(y_val, forest_pred))\n",
    "forest_score = forest.fit(X_train, y_train).score(X_val, y_val)"
   ]
  },
  {
   "cell_type": "code",
   "execution_count": 25,
   "metadata": {},
   "outputs": [
    {
     "name": "stdout",
     "output_type": "stream",
     "text": [
      "Accuracy: 91.3520097442%\n"
     ]
    }
   ],
   "source": [
    "forest_pred = forest.predict(X_val)\n",
    "\n",
    "accuracy = accuracy_score(y_val, forest_pred)\n",
    "print(\"Accuracy: %.10f%%\" % (accuracy * 100.0))"
   ]
  },
  {
   "cell_type": "markdown",
   "metadata": {},
   "source": [
    "### Parameters Tuning - Forest"
   ]
  },
  {
   "cell_type": "code",
   "execution_count": 26,
   "metadata": {},
   "outputs": [],
   "source": [
    "from sklearn.model_selection import GridSearchCV"
   ]
  },
  {
   "cell_type": "code",
   "execution_count": 27,
   "metadata": {},
   "outputs": [],
   "source": [
    "est = RandomForestClassifier()\n",
    "\n",
    "rf_p_dist = {\n",
    "     \"n_estimators\"    : [10,50,100,200,500] ,\n",
    "     \"max_depth\"  : range(1,12),\n",
    "     \"max_features\" : (3,6,9,12),\n",
    "     \"min_samples_split\" : (2,4,8)\n",
    "     }\n",
    "\n",
    "def hypertuning_rscv(est, p_distr, nbr_iter,X,y):\n",
    "    rdmsearch = RandomizedSearchCV(est, param_distributions=p_distr,\n",
    "                                  n_jobs=-1, n_iter=nbr_iter, cv=5)\n",
    "    \n",
    "    rdmsearch.fit(X,y)\n",
    "    ht_params = rdmsearch.best_params_\n",
    "    ht_score = rdmsearch.best_score_\n",
    "    return ht_params, ht_score"
   ]
  },
  {
   "cell_type": "code",
   "execution_count": 28,
   "metadata": {},
   "outputs": [
    {
     "data": {
      "text/plain": [
       "({'n_estimators': 50,\n",
       "  'min_samples_split': 8,\n",
       "  'max_features': 12,\n",
       "  'max_depth': 6},\n",
       " 0.8954587016153611)"
      ]
     },
     "execution_count": 28,
     "metadata": {},
     "output_type": "execute_result"
    }
   ],
   "source": [
    "hypertuning_rscv(est, rf_p_dist, 3, X, y)\n",
    "\n",
    "#this results changes everytime code is ran. So I selected the one that works the best"
   ]
  },
  {
   "cell_type": "markdown",
   "metadata": {},
   "source": [
    "### Logistic Regression"
   ]
  },
  {
   "cell_type": "code",
   "execution_count": 29,
   "metadata": {},
   "outputs": [
    {
     "name": "stdout",
     "output_type": "stream",
     "text": [
      "CPU times: user 5 µs, sys: 1 µs, total: 6 µs\n",
      "Wall time: 14.1 µs\n",
      "The score for logistic regression is\n",
      "Training:  68.50%\n",
      "Validate:  70.89%\n",
      "Log-loss: 0.5979\n"
     ]
    },
    {
     "name": "stderr",
     "output_type": "stream",
     "text": [
      "/Users/kelseyheng/anaconda3/lib/python3.7/site-packages/sklearn/linear_model/logistic.py:432: FutureWarning: Default solver will be changed to 'lbfgs' in 0.22. Specify a solver to silence this warning.\n",
      "  FutureWarning)\n"
     ]
    }
   ],
   "source": [
    "%time\n",
    "\n",
    "logistic = LogisticRegression(penalty='l1', C=10, max_iter=100)\n",
    "logistic.fit(X_train, y_train)\n",
    "print(\"The score for logistic regression is\")\n",
    "print(\"Training: {:6.2f}%\".format(100*logistic.score(X_train, y_train)))\n",
    "print(\"Validate: {:6.2f}%\".format(100*logistic.score(X_val, y_val)))\n",
    "print(\"Log-loss: {:6.4f}\".format(log_loss(y_val, logistic.predict_proba(X_val))))"
   ]
  },
  {
   "cell_type": "code",
   "execution_count": 30,
   "metadata": {},
   "outputs": [
    {
     "name": "stdout",
     "output_type": "stream",
     "text": [
      "Logistic Results:\n",
      "[[254 130]\n",
      " [109 328]]\n",
      "              precision    recall  f1-score   support\n",
      "\n",
      "           0       0.70      0.66      0.68       384\n",
      "           1       0.72      0.75      0.73       437\n",
      "\n",
      "    accuracy                           0.71       821\n",
      "   macro avg       0.71      0.71      0.71       821\n",
      "weighted avg       0.71      0.71      0.71       821\n",
      "\n"
     ]
    }
   ],
   "source": [
    "logistic_pred = logistic.predict(X_val)\n",
    "print('Logistic Results:')\n",
    "print(confusion_matrix(y_val,logistic_pred))\n",
    "print(classification_report(y_val, logistic_pred))"
   ]
  },
  {
   "cell_type": "code",
   "execution_count": 31,
   "metadata": {},
   "outputs": [
    {
     "name": "stdout",
     "output_type": "stream",
     "text": [
      "ROC_AUC: 74.412\n"
     ]
    }
   ],
   "source": [
    "logistic_y_score = logistic.predict_proba(X_val)[:, 1]\n",
    "\n",
    "#calculate roc curve\n",
    "logistic_fpr, logistic_tpr, logistic_auc_thresholds = roc_curve(y_val, logistic_y_score)\n",
    "\n",
    "#calculate auc\n",
    "auc_logistic = roc_auc_score(y_val, logistic_y_score)\n",
    "print('ROC_AUC: %.3f' % (auc_logistic*100))"
   ]
  },
  {
   "cell_type": "code",
   "execution_count": 32,
   "metadata": {},
   "outputs": [
    {
     "name": "stdout",
     "output_type": "stream",
     "text": [
      "Accuracy: 70.8891595615%\n"
     ]
    }
   ],
   "source": [
    "logistic_pred = logistic.predict(X_val)\n",
    "\n",
    "accuracy = accuracy_score(y_val, logistic_pred)\n",
    "print(\"Accuracy: %.10f%%\" % (accuracy * 100.0))"
   ]
  },
  {
   "cell_type": "code",
   "execution_count": 33,
   "metadata": {},
   "outputs": [
    {
     "data": {
      "image/png": "[encoded data removed]",
      "text/plain": [
       "<Figure size 720x504 with 1 Axes>"
      ]
     },
     "metadata": {
      "needs_background": "light"
     },
     "output_type": "display_data"
    }
   ],
   "source": [
    "feature_importance = abs(logistic.coef_[0])\n",
    "feature_importance = 100.0 * (feature_importance / feature_importance.max())\n",
    "sorted_idx = np.argsort(feature_importance)\n",
    "pos = np.arange(sorted_idx.shape[0]) + .5\n",
    "\n",
    "featfig = plt.figure(1,figsize=(10,7))\n",
    "featax = featfig.add_subplot(1, 1, 1)\n",
    "featax.barh(pos, feature_importance[sorted_idx], align='center', color='#eca02c')\n",
    "featax.set_yticks(pos)\n",
    "featax.set_yticklabels(np.array(X1.columns)[sorted_idx], fontsize=14)\n",
    "\n",
    "featax.set_xlabel('Relative Feature Importance', fontsize=20, weight='bold')\n",
    "featax.tick_params(axis=\"x\", labelsize=16)\n",
    "\n",
    "\n",
    "featax.spines['right'].set_visible(False)\n",
    "featax.spines['top'].set_visible(False)\n",
    "featax.spines['bottom'].set_visible(True)\n",
    "featax.spines['left'].set_visible(True)\n",
    "\n",
    "featax.patch.set_visible(False)\n",
    "\n",
    "# plt.savefig('feature_importance.jpg', transparent=True);\n",
    "# plt.show()\n"
   ]
  },
  {
   "cell_type": "markdown",
   "metadata": {},
   "source": [
    "### Tuning parameters - Logistic Regression"
   ]
  },
  {
   "cell_type": "code",
   "execution_count": 34,
   "metadata": {},
   "outputs": [],
   "source": [
    "est = LogisticRegression()\n",
    "\n",
    "rf_p_dist = {\n",
    "     \"C\"    : [0.001, 0.01, 0.1, 1, 10, 100, 1000] ,\n",
    "     \"penalty\"  : [ 'l1','l2'],\n",
    "     \"max_iter\" : [ 50,100,150 ],\n",
    "     \"fit_intercept\": ['True','False']\n",
    "     }\n",
    "\n",
    "def hypertuning_rscv(est, p_distr, nbr_iter,X,y):\n",
    "    rdmsearch = RandomizedSearchCV(est, param_distributions=p_distr,\n",
    "                                  n_jobs=-1, n_iter=nbr_iter, cv=5)\n",
    "    \n",
    "    rdmsearch.fit(X,y)\n",
    "    ht_params = rdmsearch.best_params_\n",
    "    ht_score = rdmsearch.best_score_\n",
    "    return ht_params, ht_score"
   ]
  },
  {
   "cell_type": "code",
   "execution_count": 35,
   "metadata": {
    "scrolled": false
   },
   "outputs": [
    {
     "name": "stderr",
     "output_type": "stream",
     "text": [
      "/Users/kelseyheng/anaconda3/lib/python3.7/site-packages/sklearn/linear_model/logistic.py:432: FutureWarning: Default solver will be changed to 'lbfgs' in 0.22. Specify a solver to silence this warning.\n",
      "  FutureWarning)\n"
     ]
    },
    {
     "data": {
      "text/plain": [
       "({'penalty': 'l1', 'max_iter': 150, 'fit_intercept': 'True', 'C': 1000},\n",
       " 0.6918622371228285)"
      ]
     },
     "execution_count": 35,
     "metadata": {},
     "output_type": "execute_result"
    }
   ],
   "source": [
    "hypertuning_rscv(est, rf_p_dist, 5, X, y)"
   ]
  },
  {
   "cell_type": "markdown",
   "metadata": {},
   "source": [
    "### Find Threshold for Prediction"
   ]
  },
  {
   "cell_type": "code",
   "execution_count": 36,
   "metadata": {},
   "outputs": [],
   "source": [
    "from sklearn import metrics"
   ]
  },
  {
   "cell_type": "code",
   "execution_count": 37,
   "metadata": {},
   "outputs": [],
   "source": [
    "predictions = forest.predict_proba(X_val)[:,1]"
   ]
  },
  {
   "cell_type": "markdown",
   "metadata": {},
   "source": [
    "#### Using Precision-Recall Curve"
   ]
  },
  {
   "cell_type": "code",
   "execution_count": 38,
   "metadata": {},
   "outputs": [
    {
     "data": {
      "text/plain": [
       "Text(0, 0.5, '%')"
      ]
     },
     "execution_count": 38,
     "metadata": {},
     "output_type": "execute_result"
    },
    {
     "data": {
      "image/png": "[encoded data removed]",
      "text/plain": [
       "<Figure size 720x576 with 1 Axes>"
      ]
     },
     "metadata": {
      "needs_background": "light"
     },
     "output_type": "display_data"
    }
   ],
   "source": [
    "precision, recall, thresholds = precision_recall_curve(y_val, predictions) \n",
    "thresholds = np.append(thresholds, 1) \n",
    "\n",
    "plt.figure(figsize=(10,8))    \n",
    "plt.plot(thresholds, precision, color=sns.color_palette()[0]) \n",
    "plt.plot(thresholds, recall, color=sns.color_palette()[1])  \n",
    "\n",
    "leg = plt.legend(('precision', 'recall'), frameon=True) \n",
    "leg.get_frame().set_edgecolor('k') \n",
    "\n",
    "plt.xlabel('threshold') \n",
    "plt.ylabel('%')"
   ]
  },
  {
   "cell_type": "markdown",
   "metadata": {},
   "source": [
    "### Import Test Data for Predictions"
   ]
  },
  {
   "cell_type": "code",
   "execution_count": 39,
   "metadata": {},
   "outputs": [],
   "source": [
    "test = pd.read_csv('test.csv')"
   ]
  },
  {
   "cell_type": "code",
   "execution_count": 40,
   "metadata": {},
   "outputs": [
    {
     "data": {
      "text/html": [
       "<div>\n",
       "<style scoped>\n",
       "    .dataframe tbody tr th:only-of-type {\n",
       "        vertical-align: middle;\n",
       "    }\n",
       "\n",
       "    .dataframe tbody tr th {\n",
       "        vertical-align: top;\n",
       "    }\n",
       "\n",
       "    .dataframe thead th {\n",
       "        text-align: right;\n",
       "    }\n",
       "</style>\n",
       "<table border=\"1\" class=\"dataframe\">\n",
       "  <thead>\n",
       "    <tr style=\"text-align: right;\">\n",
       "      <th></th>\n",
       "      <th>id</th>\n",
       "      <th>industry</th>\n",
       "      <th>state</th>\n",
       "      <th>request_date</th>\n",
       "      <th>term</th>\n",
       "      <th>employee_count</th>\n",
       "      <th>business_new</th>\n",
       "      <th>business_type</th>\n",
       "      <th>location</th>\n",
       "      <th>other_loans</th>\n",
       "      <th>loan_amount</th>\n",
       "      <th>insured_amount</th>\n",
       "    </tr>\n",
       "  </thead>\n",
       "  <tbody>\n",
       "    <tr>\n",
       "      <th>0</th>\n",
       "      <td>3999155010</td>\n",
       "      <td>Hotel</td>\n",
       "      <td>CA</td>\n",
       "      <td>26-Mar-10</td>\n",
       "      <td>91</td>\n",
       "      <td>1</td>\n",
       "      <td>Existing</td>\n",
       "      <td>1</td>\n",
       "      <td>Rural</td>\n",
       "      <td>N</td>\n",
       "      <td>$270,000.00</td>\n",
       "      <td>$243,000.00</td>\n",
       "    </tr>\n",
       "    <tr>\n",
       "      <th>1</th>\n",
       "      <td>4035035009</td>\n",
       "      <td>Hotel</td>\n",
       "      <td>WA</td>\n",
       "      <td>19-Apr-10</td>\n",
       "      <td>124</td>\n",
       "      <td>0</td>\n",
       "      <td>Existing</td>\n",
       "      <td>0</td>\n",
       "      <td>Rural</td>\n",
       "      <td>N</td>\n",
       "      <td>$443,574.00</td>\n",
       "      <td>$432,000.00</td>\n",
       "    </tr>\n",
       "    <tr>\n",
       "      <th>2</th>\n",
       "      <td>3889475000</td>\n",
       "      <td>Construction</td>\n",
       "      <td>NY</td>\n",
       "      <td>04-Feb-10</td>\n",
       "      <td>60</td>\n",
       "      <td>5</td>\n",
       "      <td>New</td>\n",
       "      <td>0</td>\n",
       "      <td>Rural</td>\n",
       "      <td>N</td>\n",
       "      <td>$30,000.00</td>\n",
       "      <td>$15,000.00</td>\n",
       "    </tr>\n",
       "    <tr>\n",
       "      <th>3</th>\n",
       "      <td>3794845001</td>\n",
       "      <td>Transportation</td>\n",
       "      <td>ME</td>\n",
       "      <td>04-Dec-09</td>\n",
       "      <td>29</td>\n",
       "      <td>8</td>\n",
       "      <td>New</td>\n",
       "      <td>0</td>\n",
       "      <td>Rural</td>\n",
       "      <td>Y</td>\n",
       "      <td>$340,000.00</td>\n",
       "      <td>$75,000.00</td>\n",
       "    </tr>\n",
       "    <tr>\n",
       "      <th>4</th>\n",
       "      <td>4163475006</td>\n",
       "      <td>Hotel</td>\n",
       "      <td>CO</td>\n",
       "      <td>12-Jul-10</td>\n",
       "      <td>84</td>\n",
       "      <td>2</td>\n",
       "      <td>Existing</td>\n",
       "      <td>0</td>\n",
       "      <td>Rural</td>\n",
       "      <td>Y</td>\n",
       "      <td>$150,000.00</td>\n",
       "      <td>$127,500.00</td>\n",
       "    </tr>\n",
       "  </tbody>\n",
       "</table>\n",
       "</div>"
      ],
      "text/plain": [
       "           id        industry state request_date  term  employee_count  \\\n",
       "0  3999155010           Hotel    CA    26-Mar-10    91               1   \n",
       "1  4035035009           Hotel    WA    19-Apr-10   124               0   \n",
       "2  3889475000    Construction    NY    04-Feb-10    60               5   \n",
       "3  3794845001  Transportation    ME    04-Dec-09    29               8   \n",
       "4  4163475006           Hotel    CO    12-Jul-10    84               2   \n",
       "\n",
       "  business_new  business_type location other_loans  loan_amount insured_amount  \n",
       "0     Existing              1    Rural           N  $270,000.00    $243,000.00  \n",
       "1     Existing              0    Rural           N  $443,574.00    $432,000.00  \n",
       "2          New              0    Rural           N   $30,000.00     $15,000.00  \n",
       "3          New              0    Rural           Y  $340,000.00     $75,000.00  \n",
       "4     Existing              0    Rural           Y  $150,000.00    $127,500.00  "
      ]
     },
     "execution_count": 40,
     "metadata": {},
     "output_type": "execute_result"
    }
   ],
   "source": [
    "test.head()"
   ]
  },
  {
   "cell_type": "code",
   "execution_count": 41,
   "metadata": {},
   "outputs": [],
   "source": [
    "data_clean(test)"
   ]
  },
  {
   "cell_type": "code",
   "execution_count": 42,
   "metadata": {},
   "outputs": [],
   "source": [
    "test = pd.concat([test, pd.get_dummies(test['industry'],drop_first=True,prefix=\"industry\")],axis=1)\n",
    "test.drop(columns=['industry'], inplace=True)"
   ]
  },
  {
   "cell_type": "code",
   "execution_count": 43,
   "metadata": {},
   "outputs": [],
   "source": [
    "test.drop(columns=['industry_Entertainment', 'industry_Finance'], inplace=True)"
   ]
  },
  {
   "cell_type": "code",
   "execution_count": 44,
   "metadata": {
    "scrolled": true
   },
   "outputs": [
    {
     "data": {
      "text/html": [
       "<div>\n",
       "<style scoped>\n",
       "    .dataframe tbody tr th:only-of-type {\n",
       "        vertical-align: middle;\n",
       "    }\n",
       "\n",
       "    .dataframe tbody tr th {\n",
       "        vertical-align: top;\n",
       "    }\n",
       "\n",
       "    .dataframe thead th {\n",
       "        text-align: right;\n",
       "    }\n",
       "</style>\n",
       "<table border=\"1\" class=\"dataframe\">\n",
       "  <thead>\n",
       "    <tr style=\"text-align: right;\">\n",
       "      <th></th>\n",
       "      <th>id</th>\n",
       "      <th>term</th>\n",
       "      <th>employee_count</th>\n",
       "      <th>business_new</th>\n",
       "      <th>business_type</th>\n",
       "      <th>other_loans</th>\n",
       "      <th>loan_amount</th>\n",
       "      <th>uninsured_amount</th>\n",
       "      <th>industry_Agriculture</th>\n",
       "      <th>industry_Construction</th>\n",
       "      <th>...</th>\n",
       "      <th>industry_Education</th>\n",
       "      <th>industry_Energy</th>\n",
       "      <th>industry_Engineering</th>\n",
       "      <th>industry_Healthcare</th>\n",
       "      <th>industry_Hotel</th>\n",
       "      <th>industry_Manufacturing</th>\n",
       "      <th>industry_Others</th>\n",
       "      <th>industry_Real Estate</th>\n",
       "      <th>industry_Trading</th>\n",
       "      <th>industry_Transportation</th>\n",
       "    </tr>\n",
       "  </thead>\n",
       "  <tbody>\n",
       "    <tr>\n",
       "      <th>0</th>\n",
       "      <td>3999155010</td>\n",
       "      <td>91</td>\n",
       "      <td>1</td>\n",
       "      <td>0</td>\n",
       "      <td>1</td>\n",
       "      <td>0</td>\n",
       "      <td>270000.0</td>\n",
       "      <td>27000.0</td>\n",
       "      <td>0</td>\n",
       "      <td>0</td>\n",
       "      <td>...</td>\n",
       "      <td>0</td>\n",
       "      <td>0</td>\n",
       "      <td>0</td>\n",
       "      <td>0</td>\n",
       "      <td>1</td>\n",
       "      <td>0</td>\n",
       "      <td>0</td>\n",
       "      <td>0</td>\n",
       "      <td>0</td>\n",
       "      <td>0</td>\n",
       "    </tr>\n",
       "    <tr>\n",
       "      <th>1</th>\n",
       "      <td>4035035009</td>\n",
       "      <td>124</td>\n",
       "      <td>0</td>\n",
       "      <td>0</td>\n",
       "      <td>0</td>\n",
       "      <td>0</td>\n",
       "      <td>443574.0</td>\n",
       "      <td>11574.0</td>\n",
       "      <td>0</td>\n",
       "      <td>0</td>\n",
       "      <td>...</td>\n",
       "      <td>0</td>\n",
       "      <td>0</td>\n",
       "      <td>0</td>\n",
       "      <td>0</td>\n",
       "      <td>1</td>\n",
       "      <td>0</td>\n",
       "      <td>0</td>\n",
       "      <td>0</td>\n",
       "      <td>0</td>\n",
       "      <td>0</td>\n",
       "    </tr>\n",
       "    <tr>\n",
       "      <th>2</th>\n",
       "      <td>3889475000</td>\n",
       "      <td>60</td>\n",
       "      <td>5</td>\n",
       "      <td>1</td>\n",
       "      <td>0</td>\n",
       "      <td>0</td>\n",
       "      <td>30000.0</td>\n",
       "      <td>15000.0</td>\n",
       "      <td>0</td>\n",
       "      <td>1</td>\n",
       "      <td>...</td>\n",
       "      <td>0</td>\n",
       "      <td>0</td>\n",
       "      <td>0</td>\n",
       "      <td>0</td>\n",
       "      <td>0</td>\n",
       "      <td>0</td>\n",
       "      <td>0</td>\n",
       "      <td>0</td>\n",
       "      <td>0</td>\n",
       "      <td>0</td>\n",
       "    </tr>\n",
       "    <tr>\n",
       "      <th>3</th>\n",
       "      <td>3794845001</td>\n",
       "      <td>29</td>\n",
       "      <td>8</td>\n",
       "      <td>1</td>\n",
       "      <td>0</td>\n",
       "      <td>1</td>\n",
       "      <td>340000.0</td>\n",
       "      <td>265000.0</td>\n",
       "      <td>0</td>\n",
       "      <td>0</td>\n",
       "      <td>...</td>\n",
       "      <td>0</td>\n",
       "      <td>0</td>\n",
       "      <td>0</td>\n",
       "      <td>0</td>\n",
       "      <td>0</td>\n",
       "      <td>0</td>\n",
       "      <td>0</td>\n",
       "      <td>0</td>\n",
       "      <td>0</td>\n",
       "      <td>1</td>\n",
       "    </tr>\n",
       "    <tr>\n",
       "      <th>4</th>\n",
       "      <td>4163475006</td>\n",
       "      <td>84</td>\n",
       "      <td>2</td>\n",
       "      <td>0</td>\n",
       "      <td>0</td>\n",
       "      <td>1</td>\n",
       "      <td>150000.0</td>\n",
       "      <td>22500.0</td>\n",
       "      <td>0</td>\n",
       "      <td>0</td>\n",
       "      <td>...</td>\n",
       "      <td>0</td>\n",
       "      <td>0</td>\n",
       "      <td>0</td>\n",
       "      <td>0</td>\n",
       "      <td>1</td>\n",
       "      <td>0</td>\n",
       "      <td>0</td>\n",
       "      <td>0</td>\n",
       "      <td>0</td>\n",
       "      <td>0</td>\n",
       "    </tr>\n",
       "  </tbody>\n",
       "</table>\n",
       "<p>5 rows × 21 columns</p>\n",
       "</div>"
      ],
      "text/plain": [
       "           id  term  employee_count  business_new  business_type  other_loans  \\\n",
       "0  3999155010    91               1             0              1            0   \n",
       "1  4035035009   124               0             0              0            0   \n",
       "2  3889475000    60               5             1              0            0   \n",
       "3  3794845001    29               8             1              0            1   \n",
       "4  4163475006    84               2             0              0            1   \n",
       "\n",
       "   loan_amount  uninsured_amount  industry_Agriculture  industry_Construction  \\\n",
       "0     270000.0           27000.0                     0                      0   \n",
       "1     443574.0           11574.0                     0                      0   \n",
       "2      30000.0           15000.0                     0                      1   \n",
       "3     340000.0          265000.0                     0                      0   \n",
       "4     150000.0           22500.0                     0                      0   \n",
       "\n",
       "   ...  industry_Education  industry_Energy  industry_Engineering  \\\n",
       "0  ...                   0                0                     0   \n",
       "1  ...                   0                0                     0   \n",
       "2  ...                   0                0                     0   \n",
       "3  ...                   0                0                     0   \n",
       "4  ...                   0                0                     0   \n",
       "\n",
       "   industry_Healthcare  industry_Hotel  industry_Manufacturing  \\\n",
       "0                    0               1                       0   \n",
       "1                    0               1                       0   \n",
       "2                    0               0                       0   \n",
       "3                    0               0                       0   \n",
       "4                    0               1                       0   \n",
       "\n",
       "   industry_Others  industry_Real Estate  industry_Trading  \\\n",
       "0                0                     0                 0   \n",
       "1                0                     0                 0   \n",
       "2                0                     0                 0   \n",
       "3                0                     0                 0   \n",
       "4                0                     0                 0   \n",
       "\n",
       "   industry_Transportation  \n",
       "0                        0  \n",
       "1                        0  \n",
       "2                        0  \n",
       "3                        1  \n",
       "4                        0  \n",
       "\n",
       "[5 rows x 21 columns]"
      ]
     },
     "execution_count": 44,
     "metadata": {},
     "output_type": "execute_result"
    }
   ],
   "source": [
    "test.head()"
   ]
  },
  {
   "cell_type": "code",
   "execution_count": 45,
   "metadata": {},
   "outputs": [],
   "source": [
    "X_test = test.drop('id',axis=1)"
   ]
  },
  {
   "cell_type": "code",
   "execution_count": 46,
   "metadata": {},
   "outputs": [],
   "source": [
    "threshold = 0.55\n",
    "\n",
    "predicted_proba = forest.predict_proba(X_test)\n",
    "predicted = (predicted_proba [:,1] <= threshold).astype('int')\n",
    "test['default_status'] = predicted"
   ]
  },
  {
   "cell_type": "code",
   "execution_count": 47,
   "metadata": {},
   "outputs": [],
   "source": [
    "submissions = test[['id','default_status']] "
   ]
  },
  {
   "cell_type": "code",
   "execution_count": 49,
   "metadata": {},
   "outputs": [],
   "source": [
    "submissions.to_csv('submissions_kelseyheng.csv')"
   ]
  },
  {
   "cell_type": "markdown",
   "metadata": {},
   "source": [
    "### Conclusion"
   ]
  },
  {
   "cell_type": "markdown",
   "metadata": {},
   "source": [
    "#### Logistic Regression VS Random Forest:\n",
    "\n",
    "Random forest has a higher accuracy, overfitting has been minimized. As the dataset expands in production, random forest will have a significantly higher time complexity than logistic regression. These two models have different pros and cons depending on the business need."
   ]
  },
  {
   "cell_type": "markdown",
   "metadata": {},
   "source": [
    "#### Insights from the data\n",
    "\n",
    "Term of loan: \n",
    "No. of employers:\n",
    "Different industry:\n",
    "Other loans:\n"
   ]
  },
  {
   "cell_type": "code",
   "execution_count": null,
   "metadata": {},
   "outputs": [],
   "source": []
  }
 ],
 "metadata": {
  "kernelspec": {
   "display_name": "metis",
   "language": "python",
   "name": "metis"
  },
  "language_info": {
   "codemirror_mode": {
    "name": "ipython",
    "version": 3
   },
   "file_extension": ".py",
   "mimetype": "text/x-python",
   "name": "python",
   "nbconvert_exporter": "python",
   "pygments_lexer": "ipython3",
   "version": "3.7.3"
  }
 },
 "nbformat": 4,
 "nbformat_minor": 2
}
